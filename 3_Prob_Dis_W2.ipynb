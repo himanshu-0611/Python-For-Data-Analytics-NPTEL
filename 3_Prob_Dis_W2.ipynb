{
 "cells": [
  {
   "cell_type": "code",
   "execution_count": 1,
   "id": "adfe26be",
   "metadata": {},
   "outputs": [],
   "source": [
    "import scipy\n",
    "import numpy as np\n",
    "from scipy.stats import binom"
   ]
  },
  {
   "cell_type": "markdown",
   "id": "65e539ea",
   "metadata": {},
   "source": [
    "![](http://www.stat.yale.edu/Courses/1997-98/101/binpdf.gif)"
   ]
  },
  {
   "cell_type": "markdown",
   "id": "40368149",
   "metadata": {},
   "source": [
    "### A survey found that 65% of all financial consumers were very satisfied with their primary financial institution. Suppose that 25 financial consumers are sampled and if survey result still holds true today, what is the probability that exactly 19 are very satisfied with their primary financial institution\n",
    "There are 2 possibilites, satisfied or not, so, binom dis."
   ]
  },
  {
   "cell_type": "code",
   "execution_count": 6,
   "id": "d8f0e323",
   "metadata": {},
   "outputs": [
    {
     "data": {
      "text/plain": [
       "0.090777998593228"
      ]
     },
     "execution_count": 6,
     "metadata": {},
     "output_type": "execute_result"
    }
   ],
   "source": [
    "binom.pmf(k=19, n=25, p=0.65)"
   ]
  },
  {
   "cell_type": "markdown",
   "id": "b16d8a87",
   "metadata": {},
   "source": [
    "### According to the US Census Bureau approx 6% of all workers in Jackson, Mississippi are unemployed in conducting a random telephone survey in Jackson, what is the probability of getting 2 or fewer unemployed workers in a sample of 20\n",
    "2 or less, P of 0 + P of 1 + P of 2, so cmf"
   ]
  },
  {
   "cell_type": "code",
   "execution_count": 7,
   "id": "2f6807a1",
   "metadata": {},
   "outputs": [
    {
     "data": {
      "text/plain": [
       "0.8850275957378549"
      ]
     },
     "execution_count": 7,
     "metadata": {},
     "output_type": "execute_result"
    }
   ],
   "source": [
    "binom.cdf(2, 20, 0.06)"
   ]
  },
  {
   "cell_type": "markdown",
   "id": "00f6b585",
   "metadata": {},
   "source": [
    "### Solve Binom P for n 20, p 40, x 10"
   ]
  },
  {
   "cell_type": "code",
   "execution_count": 8,
   "id": "ccfcf53c",
   "metadata": {},
   "outputs": [
    {
     "data": {
      "text/plain": [
       "0.11714155053639005"
      ]
     },
     "execution_count": 8,
     "metadata": {},
     "output_type": "execute_result"
    }
   ],
   "source": [
    "binom.pmf(k=10, n=20, p=0.4)"
   ]
  },
  {
   "cell_type": "markdown",
   "id": "d299f022",
   "metadata": {},
   "source": [
    "## Poisson Dis"
   ]
  },
  {
   "cell_type": "code",
   "execution_count": 9,
   "id": "9002b9fe",
   "metadata": {},
   "outputs": [],
   "source": [
    "from scipy.stats import poisson"
   ]
  },
  {
   "cell_type": "code",
   "execution_count": 10,
   "id": "6de8465d",
   "metadata": {},
   "outputs": [
    {
     "data": {
      "text/plain": [
       "0.18044704431548356"
      ]
     },
     "execution_count": 10,
     "metadata": {},
     "output_type": "execute_result"
    }
   ],
   "source": [
    "poisson.pmf(3, 2) #x 3, mean 2"
   ]
  },
  {
   "cell_type": "markdown",
   "id": "43978375",
   "metadata": {},
   "source": [
    "### 3.4 customers every 4 mint, P of exactly 5 cust in 4 mint interval ?"
   ]
  },
  {
   "cell_type": "code",
   "execution_count": 12,
   "id": "d7614d36",
   "metadata": {},
   "outputs": [
    {
     "data": {
      "text/plain": [
       "0.11397938346351824"
      ]
     },
     "execution_count": 12,
     "metadata": {},
     "output_type": "execute_result"
    }
   ],
   "source": [
    "prob = poisson.pmf(5, 3.2) #x 5\n",
    "prob"
   ]
  },
  {
   "cell_type": "markdown",
   "id": "451b9c00",
   "metadata": {},
   "source": [
    "### 3.2 customers every 4 mint, P of having more than 7 cust in 4 mint interval ?"
   ]
  },
  {
   "cell_type": "code",
   "execution_count": 15,
   "id": "e9d9af8b",
   "metadata": {},
   "outputs": [
    {
     "data": {
      "text/plain": [
       "0.01682984174895752"
      ]
     },
     "execution_count": 15,
     "metadata": {},
     "output_type": "execute_result"
    }
   ],
   "source": [
    "1 - poisson.cdf(7, 3.2)"
   ]
  },
  {
   "cell_type": "markdown",
   "id": "a88acfcb",
   "metadata": {},
   "source": [
    "### 3.2 customers every 4 mint, P of exactly 10 cust in 8 mint interval ?"
   ]
  },
  {
   "cell_type": "code",
   "execution_count": 17,
   "id": "8bbd0246",
   "metadata": {},
   "outputs": [
    {
     "data": {
      "text/plain": [
       "0.052790043854115495"
      ]
     },
     "execution_count": 17,
     "metadata": {},
     "output_type": "execute_result"
    }
   ],
   "source": [
    "poisson.pmf(10, 6.4) #3.2*2 as 4*2"
   ]
  },
  {
   "cell_type": "markdown",
   "id": "8272ca95",
   "metadata": {},
   "source": [
    "## Uniform Dis"
   ]
  },
  {
   "cell_type": "markdown",
   "id": "6c85adfe",
   "metadata": {},
   "source": [
    "### Amt of time 27 to 39 sec, assembly times uniformly distrubuted. P of given assembly will take between 30-35 sec"
   ]
  },
  {
   "cell_type": "code",
   "execution_count": 20,
   "id": "dffadef0",
   "metadata": {},
   "outputs": [
    {
     "data": {
      "text/plain": [
       "array([27, 28, 29, 30, 31, 32, 33, 34, 35, 36, 37, 38, 39])"
      ]
     },
     "execution_count": 20,
     "metadata": {},
     "output_type": "execute_result"
    }
   ],
   "source": [
    "np.arange(27, 40, 1)"
   ]
  },
  {
   "cell_type": "code",
   "execution_count": 21,
   "id": "37386d7e",
   "metadata": {},
   "outputs": [
    {
     "data": {
      "text/plain": [
       "33.0"
      ]
     },
     "execution_count": 21,
     "metadata": {},
     "output_type": "execute_result"
    }
   ],
   "source": [
    "from scipy.stats import uniform\n",
    "uniform.mean(loc=27, scale=12) #27+12 = 39"
   ]
  },
  {
   "cell_type": "code",
   "execution_count": 22,
   "id": "4b83abeb",
   "metadata": {},
   "outputs": [
    {
     "data": {
      "text/plain": [
       "array([0.25      , 0.33333333, 0.41666667, 0.5       , 0.58333333,\n",
       "       0.66666667])"
      ]
     },
     "execution_count": 22,
     "metadata": {},
     "output_type": "execute_result"
    }
   ],
   "source": [
    "uniform.cdf(np.arange(30, 36, 1), loc=27, scale=12)"
   ]
  },
  {
   "cell_type": "code",
   "execution_count": 23,
   "id": "511dd4dc",
   "metadata": {},
   "outputs": [
    {
     "data": {
      "text/plain": [
       "0.41666667"
      ]
     },
     "execution_count": 23,
     "metadata": {},
     "output_type": "execute_result"
    }
   ],
   "source": [
    "P = 0.66666667 - 0.25\n",
    "P"
   ]
  },
  {
   "cell_type": "markdown",
   "id": "32f090f5",
   "metadata": {},
   "source": [
    "### Avg cost 691. Insurance cost Uniformly Dis. avg 200 - 1182 dollars. std dev?"
   ]
  },
  {
   "cell_type": "code",
   "execution_count": 24,
   "id": "62432b13",
   "metadata": {},
   "outputs": [
    {
     "data": {
      "text/plain": [
       "691.0"
      ]
     },
     "execution_count": 24,
     "metadata": {},
     "output_type": "execute_result"
    }
   ],
   "source": [
    "uniform.mean(loc=200, scale=982)"
   ]
  },
  {
   "cell_type": "code",
   "execution_count": 25,
   "id": "dc6dcfcc",
   "metadata": {},
   "outputs": [
    {
     "data": {
      "text/plain": [
       "283.4789821721062"
      ]
     },
     "execution_count": 25,
     "metadata": {},
     "output_type": "execute_result"
    }
   ],
   "source": [
    "uniform.std(loc=200, scale=982)"
   ]
  },
  {
   "cell_type": "code",
   "execution_count": 28,
   "id": "a4499f55",
   "metadata": {},
   "outputs": [
    {
     "data": {
      "text/plain": [
       "0.8413447460685429"
      ]
     },
     "execution_count": 28,
     "metadata": {},
     "output_type": "execute_result"
    }
   ],
   "source": [
    "from scipy.stats import norm\n",
    "val, m, s = 68, 65.5, 2.5 #x 68, mean 65.5, std dev 2.5, p?\n",
    "norm.cdf(val, m, s)"
   ]
  },
  {
   "cell_type": "markdown",
   "id": "a6f4c88c",
   "metadata": {},
   "source": [
    "cdf(x>val)"
   ]
  },
  {
   "cell_type": "code",
   "execution_count": 29,
   "id": "2a8f97af",
   "metadata": {},
   "outputs": [
    {
     "data": {
      "text/plain": [
       "0.15865525393145707"
      ]
     },
     "execution_count": 29,
     "metadata": {},
     "output_type": "execute_result"
    }
   ],
   "source": [
    "1 - norm.cdf(val, m, s)"
   ]
  },
  {
   "cell_type": "markdown",
   "id": "6d0698cf",
   "metadata": {},
   "source": [
    "cdf(cal1<x<val2)"
   ]
  },
  {
   "cell_type": "code",
   "execution_count": 30,
   "id": "466f0593",
   "metadata": {},
   "outputs": [
    {
     "data": {
      "text/plain": [
       "0.6826894921370859"
      ]
     },
     "execution_count": 30,
     "metadata": {},
     "output_type": "execute_result"
    }
   ],
   "source": [
    "norm.cdf(val, m, s) - norm.cdf(63, m, s)"
   ]
  },
  {
   "cell_type": "markdown",
   "id": "a38b71d1",
   "metadata": {},
   "source": [
    "P? x>700, mean 494, std dev 100, Normal Dis"
   ]
  },
  {
   "cell_type": "code",
   "execution_count": 31,
   "id": "7ed28026",
   "metadata": {},
   "outputs": [
    {
     "data": {
      "text/plain": [
       "0.019699270409376912"
      ]
     },
     "execution_count": 31,
     "metadata": {},
     "output_type": "execute_result"
    }
   ],
   "source": [
    "1-norm.cdf(700, 494, 100)"
   ]
  },
  {
   "cell_type": "markdown",
   "id": "2bec7775",
   "metadata": {},
   "source": [
    "For same condi above, P? x <= 550"
   ]
  },
  {
   "cell_type": "code",
   "execution_count": 33,
   "id": "40b601de",
   "metadata": {},
   "outputs": [
    {
     "data": {
      "text/plain": [
       "0.712260281150973"
      ]
     },
     "execution_count": 33,
     "metadata": {},
     "output_type": "execute_result"
    }
   ],
   "source": [
    "norm.cdf(550, 494, 100)"
   ]
  },
  {
   "cell_type": "markdown",
   "id": "0d8d48ce",
   "metadata": {},
   "source": [
    "P? 300 <= x <= 600"
   ]
  },
  {
   "cell_type": "code",
   "execution_count": 34,
   "id": "0eeb2f39",
   "metadata": {},
   "outputs": [
    {
     "data": {
      "text/plain": [
       "0.8292378553956377"
      ]
     },
     "execution_count": 34,
     "metadata": {},
     "output_type": "execute_result"
    }
   ],
   "source": [
    "norm.cdf(600, 494, 100) - norm.cdf(300, 494, 100)"
   ]
  },
  {
   "cell_type": "markdown",
   "id": "349246b1",
   "metadata": {},
   "source": [
    "If area is given, we can find Z value"
   ]
  },
  {
   "cell_type": "code",
   "execution_count": 35,
   "id": "56397033",
   "metadata": {},
   "outputs": [
    {
     "data": {
      "text/plain": [
       "1.6448536269514722"
      ]
     },
     "execution_count": 35,
     "metadata": {},
     "output_type": "execute_result"
    }
   ],
   "source": [
    "norm.ppf(0.95) #area 0.95, Z value output, ppf probability function"
   ]
  },
  {
   "cell_type": "code",
   "execution_count": 36,
   "id": "49c2f47e",
   "metadata": {},
   "outputs": [
    {
     "data": {
      "text/plain": [
       "-0.45988328292440145"
      ]
     },
     "execution_count": 36,
     "metadata": {},
     "output_type": "execute_result"
    }
   ],
   "source": [
    "norm.ppf(1-0.6772) #left side, from Z we can find X"
   ]
  },
  {
   "cell_type": "markdown",
   "id": "00a9cf5c",
   "metadata": {},
   "source": [
    "## HyperGeom Dis\n",
    "### 18 CS companies, 12 in Sil Val. 3 selected, P? of 1 or more from Sil Val"
   ]
  },
  {
   "cell_type": "code",
   "execution_count": 41,
   "id": "14c24069",
   "metadata": {},
   "outputs": [
    {
     "data": {
      "text/plain": [
       "0.9754901960784306"
      ]
     },
     "execution_count": 41,
     "metadata": {},
     "output_type": "execute_result"
    }
   ],
   "source": [
    "from scipy.stats import hypergeom as hp\n",
    "hp.sf(0, 18, 3, 12) #hp.SurvivalFunction(x-1, pop size, no of sample, no of success)"
   ]
  },
  {
   "cell_type": "markdown",
   "id": "9dcc1db9",
   "metadata": {},
   "source": [
    "### 18 officers, 11 hispanic, 5 are chosen, chosen are by chance alone. P? 1 or fewer chosen are hispanic"
   ]
  },
  {
   "cell_type": "code",
   "execution_count": 44,
   "id": "b203e7f3",
   "metadata": {},
   "outputs": [
    {
     "data": {
      "text/plain": [
       "0.04738562091503275"
      ]
     },
     "execution_count": 44,
     "metadata": {},
     "output_type": "execute_result"
    }
   ],
   "source": [
    "p = hp.cdf(1, 18, 5, 11)\n",
    "p"
   ]
  },
  {
   "cell_type": "code",
   "execution_count": 46,
   "id": "bbfc6b45",
   "metadata": {},
   "outputs": [
    {
     "data": {
      "text/plain": [
       "0.9526143790849673"
      ]
     },
     "execution_count": 46,
     "metadata": {},
     "output_type": "execute_result"
    }
   ],
   "source": [
    "cdf = 1 - p\n",
    "cdf"
   ]
  },
  {
   "cell_type": "markdown",
   "id": "3d5a43a5",
   "metadata": {},
   "source": [
    "## Exponential Dis\n",
    "Defective part occurs in Poisson dis on avg of 1.38 defect every 20 mints. P? that less than 15 mints will elapse between any 2 defects"
   ]
  },
  {
   "cell_type": "code",
   "execution_count": 48,
   "id": "6d03543b",
   "metadata": {},
   "outputs": [
    {
     "data": {
      "text/plain": [
       "0.7246376811594204"
      ]
     },
     "execution_count": 48,
     "metadata": {},
     "output_type": "execute_result"
    }
   ],
   "source": [
    "#Between any 2 things : Exp Dis\n",
    "#Mean of Exp Dis = 1 / Mean of Pois Dis\n",
    "mu1 = 1/1.38\n",
    "mu1"
   ]
  },
  {
   "cell_type": "code",
   "execution_count": 49,
   "id": "7658d51f",
   "metadata": {},
   "outputs": [
    {
     "data": {
      "text/plain": [
       "0.6447736190750485"
      ]
     },
     "execution_count": 49,
     "metadata": {},
     "output_type": "execute_result"
    }
   ],
   "source": [
    "from scipy.stats import expon as exp\n",
    "exp.cdf(0.75, 0, (mu1)) # 15/20 = 0.75, loc = 0 as y = (x - loc)/scale, y = x/scale"
   ]
  },
  {
   "cell_type": "code",
   "execution_count": 9,
   "id": "0fa226ba",
   "metadata": {},
   "outputs": [
    {
     "data": {
      "text/plain": [
       "0.9997028012822888"
      ]
     },
     "execution_count": 9,
     "metadata": {},
     "output_type": "execute_result"
    }
   ],
   "source": [
    "1 - binom.cdf(k=9, n=90, p=0.25)"
   ]
  },
  {
   "cell_type": "code",
   "execution_count": 8,
   "id": "f689817b",
   "metadata": {},
   "outputs": [
    {
     "data": {
      "text/plain": [
       "7.742632078387753e-06"
      ]
     },
     "execution_count": 8,
     "metadata": {},
     "output_type": "execute_result"
    }
   ],
   "source": [
    "binom.pmf(k=20, n=50, p=0.7)"
   ]
  },
  {
   "cell_type": "code",
   "execution_count": null,
   "id": "066447ba",
   "metadata": {},
   "outputs": [],
   "source": []
  }
 ],
 "metadata": {
  "kernelspec": {
   "display_name": "Python 3 (ipykernel)",
   "language": "python",
   "name": "python3"
  },
  "language_info": {
   "codemirror_mode": {
    "name": "ipython",
    "version": 3
   },
   "file_extension": ".py",
   "mimetype": "text/x-python",
   "name": "python",
   "nbconvert_exporter": "python",
   "pygments_lexer": "ipython3",
   "version": "3.9.7"
  }
 },
 "nbformat": 4,
 "nbformat_minor": 5
}
