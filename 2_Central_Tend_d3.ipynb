{
 "cells": [
  {
   "cell_type": "raw",
   "id": "d1322c38",
   "metadata": {},
   "source": [
    "# Central Tendency"
   ]
  },
  {
   "cell_type": "code",
   "execution_count": 10,
   "id": "f2edbd25",
   "metadata": {},
   "outputs": [],
   "source": [
    "import pandas as pd\n",
    "import numpy as np"
   ]
  },
  {
   "cell_type": "code",
   "execution_count": 11,
   "id": "481a5e6a",
   "metadata": {},
   "outputs": [
    {
     "data": {
      "text/html": [
       "<div>\n",
       "<style scoped>\n",
       "    .dataframe tbody tr th:only-of-type {\n",
       "        vertical-align: middle;\n",
       "    }\n",
       "\n",
       "    .dataframe tbody tr th {\n",
       "        vertical-align: top;\n",
       "    }\n",
       "\n",
       "    .dataframe thead th {\n",
       "        text-align: right;\n",
       "    }\n",
       "</style>\n",
       "<table border=\"1\" class=\"dataframe\">\n",
       "  <thead>\n",
       "    <tr style=\"text-align: right;\">\n",
       "      <th></th>\n",
       "      <th>S.No.</th>\n",
       "      <th>MTE (25)</th>\n",
       "      <th>Mini Project (25)</th>\n",
       "      <th>Total (50)</th>\n",
       "      <th>ETE (50)</th>\n",
       "      <th>Total</th>\n",
       "    </tr>\n",
       "  </thead>\n",
       "  <tbody>\n",
       "    <tr>\n",
       "      <th>0</th>\n",
       "      <td>1</td>\n",
       "      <td>5.00</td>\n",
       "      <td>20</td>\n",
       "      <td>25.00</td>\n",
       "      <td>12.0</td>\n",
       "      <td>37.00</td>\n",
       "    </tr>\n",
       "    <tr>\n",
       "      <th>1</th>\n",
       "      <td>2</td>\n",
       "      <td>11.05</td>\n",
       "      <td>20</td>\n",
       "      <td>31.05</td>\n",
       "      <td>26.0</td>\n",
       "      <td>57.05</td>\n",
       "    </tr>\n",
       "    <tr>\n",
       "      <th>2</th>\n",
       "      <td>3</td>\n",
       "      <td>8.10</td>\n",
       "      <td>20</td>\n",
       "      <td>28.10</td>\n",
       "      <td>14.0</td>\n",
       "      <td>42.10</td>\n",
       "    </tr>\n",
       "    <tr>\n",
       "      <th>3</th>\n",
       "      <td>4</td>\n",
       "      <td>6.00</td>\n",
       "      <td>10</td>\n",
       "      <td>16.00</td>\n",
       "      <td>13.0</td>\n",
       "      <td>29.00</td>\n",
       "    </tr>\n",
       "    <tr>\n",
       "      <th>4</th>\n",
       "      <td>5</td>\n",
       "      <td>11.35</td>\n",
       "      <td>20</td>\n",
       "      <td>31.35</td>\n",
       "      <td>17.0</td>\n",
       "      <td>48.35</td>\n",
       "    </tr>\n",
       "    <tr>\n",
       "      <th>...</th>\n",
       "      <td>...</td>\n",
       "      <td>...</td>\n",
       "      <td>...</td>\n",
       "      <td>...</td>\n",
       "      <td>...</td>\n",
       "      <td>...</td>\n",
       "    </tr>\n",
       "    <tr>\n",
       "      <th>74</th>\n",
       "      <td>75</td>\n",
       "      <td>12.05</td>\n",
       "      <td>10</td>\n",
       "      <td>22.05</td>\n",
       "      <td>20.0</td>\n",
       "      <td>42.05</td>\n",
       "    </tr>\n",
       "    <tr>\n",
       "      <th>75</th>\n",
       "      <td>76</td>\n",
       "      <td>12.25</td>\n",
       "      <td>10</td>\n",
       "      <td>22.25</td>\n",
       "      <td>28.0</td>\n",
       "      <td>50.25</td>\n",
       "    </tr>\n",
       "    <tr>\n",
       "      <th>76</th>\n",
       "      <td>77</td>\n",
       "      <td>1.75</td>\n",
       "      <td>10</td>\n",
       "      <td>11.75</td>\n",
       "      <td>NaN</td>\n",
       "      <td>0.00</td>\n",
       "    </tr>\n",
       "    <tr>\n",
       "      <th>77</th>\n",
       "      <td>78</td>\n",
       "      <td>3.00</td>\n",
       "      <td>10</td>\n",
       "      <td>13.00</td>\n",
       "      <td>NaN</td>\n",
       "      <td>0.00</td>\n",
       "    </tr>\n",
       "    <tr>\n",
       "      <th>78</th>\n",
       "      <td>79</td>\n",
       "      <td>5.80</td>\n",
       "      <td>10</td>\n",
       "      <td>15.80</td>\n",
       "      <td>12.0</td>\n",
       "      <td>27.80</td>\n",
       "    </tr>\n",
       "  </tbody>\n",
       "</table>\n",
       "<p>79 rows × 6 columns</p>\n",
       "</div>"
      ],
      "text/plain": [
       "    S.No.  MTE (25)  Mini Project (25)  Total (50)  ETE (50)  Total\n",
       "0       1      5.00                 20       25.00      12.0  37.00\n",
       "1       2     11.05                 20       31.05      26.0  57.05\n",
       "2       3      8.10                 20       28.10      14.0  42.10\n",
       "3       4      6.00                 10       16.00      13.0  29.00\n",
       "4       5     11.35                 20       31.35      17.0  48.35\n",
       "..    ...       ...                ...         ...       ...    ...\n",
       "74     75     12.05                 10       22.05      20.0  42.05\n",
       "75     76     12.25                 10       22.25      28.0  50.25\n",
       "76     77      1.75                 10       11.75       NaN   0.00\n",
       "77     78      3.00                 10       13.00       NaN   0.00\n",
       "78     79      5.80                 10       15.80      12.0  27.80\n",
       "\n",
       "[79 rows x 6 columns]"
      ]
     },
     "execution_count": 11,
     "metadata": {},
     "output_type": "execute_result"
    }
   ],
   "source": [
    "path = \"IBM-313 Marks.xlsx\"\n",
    "table = pd.read_excel(path)\n",
    "table"
   ]
  },
  {
   "cell_type": "code",
   "execution_count": 12,
   "id": "dbd98091",
   "metadata": {},
   "outputs": [
    {
     "data": {
      "text/plain": [
       "46.90632911392405"
      ]
     },
     "execution_count": 12,
     "metadata": {},
     "output_type": "execute_result"
    }
   ],
   "source": [
    "x = table['Total']\n",
    "np.mean(x)"
   ]
  },
  {
   "cell_type": "code",
   "execution_count": 13,
   "id": "0c26680d",
   "metadata": {
    "scrolled": true
   },
   "outputs": [
    {
     "data": {
      "text/plain": [
       "45.0"
      ]
     },
     "execution_count": 13,
     "metadata": {},
     "output_type": "execute_result"
    }
   ],
   "source": [
    "np.median(x)"
   ]
  },
  {
   "cell_type": "code",
   "execution_count": 28,
   "id": "e2783447",
   "metadata": {},
   "outputs": [
    {
     "data": {
      "text/plain": [
       "3.0"
      ]
     },
     "execution_count": 28,
     "metadata": {},
     "output_type": "execute_result"
    }
   ],
   "source": [
    "a = np.array([1,2,3,4,5])\n",
    "p = np.percentile(a, 50)\n",
    "p"
   ]
  },
  {
   "cell_type": "code",
   "execution_count": 15,
   "id": "17f8f2b6",
   "metadata": {},
   "outputs": [
    {
     "data": {
      "text/plain": [
       "['Ram', 65, 2.5]"
      ]
     },
     "execution_count": 15,
     "metadata": {},
     "output_type": "execute_result"
    }
   ],
   "source": [
    "k = ['Ram', 65, 2.5]\n",
    "k"
   ]
  },
  {
   "cell_type": "code",
   "execution_count": 16,
   "id": "a1b6b1ad",
   "metadata": {},
   "outputs": [
    {
     "name": "stdout",
     "output_type": "stream",
     "text": [
      "Ram\n",
      "65\n",
      "2.5\n"
     ]
    }
   ],
   "source": [
    "for i in k:\n",
    "    print(i)"
   ]
  },
  {
   "cell_type": "code",
   "execution_count": 17,
   "id": "19188b6a",
   "metadata": {},
   "outputs": [
    {
     "name": "stdout",
     "output_type": "stream",
     "text": [
      "10\n",
      "12\n",
      "14\n",
      "16\n",
      "18\n"
     ]
    }
   ],
   "source": [
    "for i in range(10, 20, 2):\n",
    "    print(i)"
   ]
  },
  {
   "cell_type": "code",
   "execution_count": 18,
   "id": "f30e9eca",
   "metadata": {},
   "outputs": [
    {
     "name": "stdout",
     "output_type": "stream",
     "text": [
      "10, 12, 14, 16, 18, "
     ]
    }
   ],
   "source": [
    "for i in range(10, 20, 2):\n",
    "    print(i, end = ', ')"
   ]
  },
  {
   "cell_type": "code",
   "execution_count": 19,
   "id": "e97f461a",
   "metadata": {},
   "outputs": [
    {
     "name": "stdout",
     "output_type": "stream",
     "text": [
      "1\n"
     ]
    }
   ],
   "source": [
    "data = [1, 2, 3, 4, 43, 33, 54]\n",
    "def min_and_max(data):\n",
    "    min_val = min(data)\n",
    "    max_val = max(data)\n",
    "    print(min_val)\n",
    "min_and_max(data)"
   ]
  },
  {
   "cell_type": "code",
   "execution_count": 20,
   "id": "9cf28ec8",
   "metadata": {},
   "outputs": [
    {
     "name": "stdout",
     "output_type": "stream",
     "text": [
      "1.75\n"
     ]
    }
   ],
   "source": [
    "a = np.array([1, 2, 3, 4])\n",
    "q1 = np.percentile(a, 25)\n",
    "print(q1)"
   ]
  },
  {
   "cell_type": "code",
   "execution_count": 21,
   "id": "f31d8af7",
   "metadata": {},
   "outputs": [
    {
     "name": "stdout",
     "output_type": "stream",
     "text": [
      "2.5\n"
     ]
    }
   ],
   "source": [
    "a = np.array([1, 2, 3, 4])\n",
    "q2 = np.percentile(a, 50)\n",
    "print(q2)"
   ]
  },
  {
   "cell_type": "code",
   "execution_count": 22,
   "id": "8c6d9ca9",
   "metadata": {},
   "outputs": [
    {
     "data": {
      "text/plain": [
       "0.75"
      ]
     },
     "execution_count": 22,
     "metadata": {},
     "output_type": "execute_result"
    }
   ],
   "source": [
    "IQ = q2 - q1\n",
    "IQ"
   ]
  },
  {
   "cell_type": "code",
   "execution_count": 23,
   "id": "8880e6de",
   "metadata": {},
   "outputs": [
    {
     "data": {
      "text/plain": [
       "262.78147892965876"
      ]
     },
     "execution_count": 23,
     "metadata": {},
     "output_type": "execute_result"
    }
   ],
   "source": [
    "np.var(x)"
   ]
  },
  {
   "cell_type": "code",
   "execution_count": 25,
   "id": "8cfc6dc4",
   "metadata": {},
   "outputs": [
    {
     "data": {
      "text/plain": [
       "16.210536046955966"
      ]
     },
     "execution_count": 25,
     "metadata": {},
     "output_type": "execute_result"
    }
   ],
   "source": [
    "import statistics\n",
    "#population standard deviation\n",
    "statistics.pstdev(x)"
   ]
  },
  {
   "cell_type": "code",
   "execution_count": 26,
   "id": "e8b8a696",
   "metadata": {},
   "outputs": [
    {
     "data": {
      "text/plain": [
       "16.31411880088133"
      ]
     },
     "execution_count": 26,
     "metadata": {},
     "output_type": "execute_result"
    }
   ],
   "source": [
    "#sample standard deviation\n",
    "statistics.stdev(x)"
   ]
  },
  {
   "cell_type": "code",
   "execution_count": 29,
   "id": "a825f8cf",
   "metadata": {},
   "outputs": [],
   "source": [
    "from matplotlib import pyplot as plt"
   ]
  },
  {
   "cell_type": "code",
   "execution_count": 31,
   "id": "d57c59f1",
   "metadata": {},
   "outputs": [
    {
     "data": {
      "text/plain": [
       "{'whiskers': [<matplotlib.lines.Line2D at 0x11fa3fbe580>,\n",
       "  <matplotlib.lines.Line2D at 0x11fa44629d0>],\n",
       " 'caps': [<matplotlib.lines.Line2D at 0x11fa446ebb0>,\n",
       "  <matplotlib.lines.Line2D at 0x11fa446ebe0>],\n",
       " 'boxes': [<matplotlib.lines.Line2D at 0x11fa3f8f760>],\n",
       " 'medians': [<matplotlib.lines.Line2D at 0x11fa44ef040>],\n",
       " 'fliers': [<matplotlib.lines.Line2D at 0x11fa44f6ca0>],\n",
       " 'means': []}"
      ]
     },
     "execution_count": 31,
     "metadata": {},
     "output_type": "execute_result"
    },
    {
     "data": {
      "image/png": "[encoded data removed]",
      "text/plain": [
       "<Figure size 432x288 with 1 Axes>"
      ]
     },
     "metadata": {
      "needs_background": "light"
     },
     "output_type": "display_data"
    }
   ],
   "source": [
    "plt.boxplot(x, sym = '*')\n",
    "#right skewed data"
   ]
  },
  {
   "cell_type": "code",
   "execution_count": null,
   "id": "052ed7c0",
   "metadata": {},
   "outputs": [],
   "source": []
  }
 ],
 "metadata": {
  "kernelspec": {
   "display_name": "Python 3 (ipykernel)",
   "language": "python",
   "name": "python3"
  },
  "language_info": {
   "codemirror_mode": {
    "name": "ipython",
    "version": 3
   },
   "file_extension": ".py",
   "mimetype": "text/x-python",
   "name": "python",
   "nbconvert_exporter": "python",
   "pygments_lexer": "ipython3",
   "version": "3.9.7"
  }
 },
 "nbformat": 4,
 "nbformat_minor": 5
}
