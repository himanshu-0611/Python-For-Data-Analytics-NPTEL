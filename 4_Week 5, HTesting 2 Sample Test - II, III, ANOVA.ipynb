{
 "cells": [
  {
   "cell_type": "markdown",
   "id": "589438cd",
   "metadata": {},
   "source": [
    "1) Sampling Distribution About p1-p2 \\\n",
    "2) HTesting for 2 Variables: F Test Statistic \\\n",
    "     &emsp; &emsp; F Test Example \\\n",
    "3) T1, T2 Error Mix\n",
    "4) ANOVA"
   ]
  },
  {
   "cell_type": "markdown",
   "id": "7a1b312a",
   "metadata": {},
   "source": [
    "## 1) Sampling Distribution About p1-p2"
   ]
  },
  {
   "cell_type": "code",
   "execution_count": 17,
   "id": "a5331989",
   "metadata": {},
   "outputs": [],
   "source": [
    "import statsmodels.api as spm\n",
    "from statsmodels.formula.api import ols\n",
    "from matplotlib import pyplot as plt"
   ]
  },
  {
   "cell_type": "code",
   "execution_count": 18,
   "id": "37f80c1a",
   "metadata": {},
   "outputs": [],
   "source": [
    "import pandas as pd\n",
    "import numpy as np\n",
    "from scipy import stats\n",
    "import scipy\n",
    "import math\n",
    "def two_samp_proportion(p1, p2, n1, n2):\n",
    "    p_pool = ((p1*n1) + (p2*n2))/(n1 + n2)\n",
    "    x = (p_pool * (1 - p_pool) * ((1/n1) + (1/n2)))\n",
    "    s = math.sqrt(x)\n",
    "    z = (p1 - p2)/s\n",
    "    if(z < 0):\n",
    "        p_val = stats.norm.cdf(z)\n",
    "    else:\n",
    "        p_val = 1 - stats.norm.cdf(z)\n",
    "    return z, p_val*2"
   ]
  },
  {
   "cell_type": "code",
   "execution_count": 19,
   "id": "c0bc25a8",
   "metadata": {},
   "outputs": [
    {
     "data": {
      "text/plain": [
       "(1.3442056254198995, 0.17888190308175567)"
      ]
     },
     "execution_count": 19,
     "metadata": {},
     "output_type": "execute_result"
    }
   ],
   "source": [
    "two_samp_proportion(0.27, 0.19, 100, 100)"
   ]
  },
  {
   "cell_type": "code",
   "execution_count": 20,
   "id": "ee2b714b",
   "metadata": {},
   "outputs": [
    {
     "data": {
      "text/plain": [
       "0.9105258065485569"
      ]
     },
     "execution_count": 20,
     "metadata": {},
     "output_type": "execute_result"
    }
   ],
   "source": [
    "stats.norm.cdf(1.344)"
   ]
  },
  {
   "cell_type": "markdown",
   "id": "e114a58a",
   "metadata": {},
   "source": [
    "## 2) HTesting for 2 Variables: F Test Statistic "
   ]
  },
  {
   "cell_type": "code",
   "execution_count": 21,
   "id": "d80b5a33",
   "metadata": {},
   "outputs": [],
   "source": [
    "import pandas as pd\n",
    "import numpy as np\n",
    "import math\n",
    "from scipy import stats\n",
    "import scipy"
   ]
  },
  {
   "cell_type": "code",
   "execution_count": 22,
   "id": "2bcf362d",
   "metadata": {},
   "outputs": [
    {
     "data": {
      "text/plain": [
       "2.8450165269958436"
      ]
     },
     "execution_count": 22,
     "metadata": {},
     "output_type": "execute_result"
    }
   ],
   "source": [
    "#Lower limit\n",
    "scipy.stats.f.ppf(q=1-.05, dfn = 15, dfd = 10)"
   ]
  },
  {
   "cell_type": "code",
   "execution_count": 23,
   "id": "9c33aa15",
   "metadata": {},
   "outputs": [
    {
     "data": {
      "text/plain": [
       "0.3931252536255495"
      ]
     },
     "execution_count": 23,
     "metadata": {},
     "output_type": "execute_result"
    }
   ],
   "source": [
    "#Upper Limit\n",
    "scipy.stats.f.ppf(q = 0.05, dfn = 15, dfd = 10)"
   ]
  },
  {
   "cell_type": "markdown",
   "id": "ec34e6f9",
   "metadata": {},
   "source": [
    "### F Test Example"
   ]
  },
  {
   "cell_type": "code",
   "execution_count": 24,
   "id": "8a6a11bf",
   "metadata": {},
   "outputs": [],
   "source": [
    "X = [3, 4, 5, 23, 43, 54,33, 32]\n",
    "Y = [34, 45, 43, 55, 34, 32, 2, 1]"
   ]
  },
  {
   "cell_type": "code",
   "execution_count": 25,
   "id": "974f196f",
   "metadata": {},
   "outputs": [],
   "source": [
    "F = np.var(X)/np.var(Y)\n",
    "dfn = len(X) - 1\n",
    "dfd = len(Y) - 1"
   ]
  },
  {
   "cell_type": "code",
   "execution_count": 26,
   "id": "df8a018c",
   "metadata": {},
   "outputs": [
    {
     "data": {
      "text/plain": [
       "0.4865737289509142"
      ]
     },
     "execution_count": 26,
     "metadata": {},
     "output_type": "execute_result"
    }
   ],
   "source": [
    "p_value = scipy.stats.f.cdf(F, dfn, dfd)\n",
    "p_value"
   ]
  },
  {
   "cell_type": "markdown",
   "id": "862e8070",
   "metadata": {},
   "source": [
    "## 3) T1, T2 Error Mix"
   ]
  },
  {
   "cell_type": "code",
   "execution_count": 27,
   "id": "55905f57",
   "metadata": {},
   "outputs": [],
   "source": [
    "def samplesize(alfa, beta, mu1, mu2, sigma):\n",
    "    z1 = -1*stats.norm.ppf(alfa)\n",
    "    z2 = -1*stats.norm.ppf(beta)\n",
    "    n = (((z1 + z2)**2) * (sigma**2))/((mu1 - mu2)**2)\n",
    "    print(n)"
   ]
  },
  {
   "cell_type": "code",
   "execution_count": 28,
   "id": "e4569c18",
   "metadata": {},
   "outputs": [
    {
     "name": "stdout",
     "output_type": "stream",
     "text": [
      "155.900083325938\n"
     ]
    }
   ],
   "source": [
    "samplesize(0.05, 0.1, 12, 12.75, 3.2)"
   ]
  },
  {
   "cell_type": "markdown",
   "id": "4e3403e1",
   "metadata": {},
   "source": [
    "## 4) Analysis of Varience"
   ]
  },
  {
   "cell_type": "markdown",
   "id": "3280370d",
   "metadata": {},
   "source": [
    "#### Effect of Teahing Method\n",
    "Black Board   Case Presentation   PPT <br>\n",
    "     4                 2           2 <br>\n",
    "     3                 4           1 <br> \n",
    "     2                 6           3"
   ]
  },
  {
   "cell_type": "code",
   "execution_count": 29,
   "id": "b599d9c4",
   "metadata": {},
   "outputs": [
    {
     "data": {
      "text/plain": [
       "F_onewayResult(statistic=1.4736842105263157, pvalue=0.3015558721758599)"
      ]
     },
     "execution_count": 29,
     "metadata": {},
     "output_type": "execute_result"
    }
   ],
   "source": [
    "a = [4, 2, 2]\n",
    "b = [2, 4, 6]\n",
    "c = [2, 1, 3]\n",
    "stats.f_oneway(a, b, c)"
   ]
  },
  {
   "cell_type": "markdown",
   "id": "8f109c40",
   "metadata": {},
   "source": [
    "### New Method: Pandas.melt"
   ]
  },
  {
   "cell_type": "code",
   "execution_count": 30,
   "id": "84b282b5",
   "metadata": {},
   "outputs": [
    {
     "data": {
      "text/html": [
       "<div>\n",
       "<style scoped>\n",
       "    .dataframe tbody tr th:only-of-type {\n",
       "        vertical-align: middle;\n",
       "    }\n",
       "\n",
       "    .dataframe tbody tr th {\n",
       "        vertical-align: top;\n",
       "    }\n",
       "\n",
       "    .dataframe thead th {\n",
       "        text-align: right;\n",
       "    }\n",
       "</style>\n",
       "<table border=\"1\" class=\"dataframe\">\n",
       "  <thead>\n",
       "    <tr style=\"text-align: right;\">\n",
       "      <th></th>\n",
       "      <th>Black Board</th>\n",
       "      <th>Case Presentation</th>\n",
       "      <th>PPT</th>\n",
       "    </tr>\n",
       "  </thead>\n",
       "  <tbody>\n",
       "    <tr>\n",
       "      <th>0</th>\n",
       "      <td>4</td>\n",
       "      <td>2</td>\n",
       "      <td>2</td>\n",
       "    </tr>\n",
       "    <tr>\n",
       "      <th>1</th>\n",
       "      <td>3</td>\n",
       "      <td>4</td>\n",
       "      <td>1</td>\n",
       "    </tr>\n",
       "    <tr>\n",
       "      <th>2</th>\n",
       "      <td>2</td>\n",
       "      <td>6</td>\n",
       "      <td>3</td>\n",
       "    </tr>\n",
       "  </tbody>\n",
       "</table>\n",
       "</div>"
      ],
      "text/plain": [
       "   Black Board   Case Presentation    PPT \n",
       "0             4                    2     2\n",
       "1             3                    4     1\n",
       "2             2                    6     3"
      ]
     },
     "execution_count": 30,
     "metadata": {},
     "output_type": "execute_result"
    }
   ],
   "source": [
    "df = pd.read_excel('oneway.xlsx')\n",
    "df"
   ]
  },
  {
   "cell_type": "code",
   "execution_count": 38,
   "id": "8c065378",
   "metadata": {},
   "outputs": [
    {
     "data": {
      "text/html": [
       "<div>\n",
       "<style scoped>\n",
       "    .dataframe tbody tr th:only-of-type {\n",
       "        vertical-align: middle;\n",
       "    }\n",
       "\n",
       "    .dataframe tbody tr th {\n",
       "        vertical-align: top;\n",
       "    }\n",
       "\n",
       "    .dataframe thead th {\n",
       "        text-align: right;\n",
       "    }\n",
       "</style>\n",
       "<table border=\"1\" class=\"dataframe\">\n",
       "  <thead>\n",
       "    <tr style=\"text-align: right;\">\n",
       "      <th></th>\n",
       "      <th>index</th>\n",
       "      <th>Treatments</th>\n",
       "      <th>value</th>\n",
       "    </tr>\n",
       "  </thead>\n",
       "  <tbody>\n",
       "    <tr>\n",
       "      <th>0</th>\n",
       "      <td>0</td>\n",
       "      <td>Black Board</td>\n",
       "      <td>4</td>\n",
       "    </tr>\n",
       "    <tr>\n",
       "      <th>1</th>\n",
       "      <td>1</td>\n",
       "      <td>Black Board</td>\n",
       "      <td>3</td>\n",
       "    </tr>\n",
       "    <tr>\n",
       "      <th>2</th>\n",
       "      <td>2</td>\n",
       "      <td>Black Board</td>\n",
       "      <td>2</td>\n",
       "    </tr>\n",
       "    <tr>\n",
       "      <th>3</th>\n",
       "      <td>0</td>\n",
       "      <td>Case Presentation</td>\n",
       "      <td>2</td>\n",
       "    </tr>\n",
       "    <tr>\n",
       "      <th>4</th>\n",
       "      <td>1</td>\n",
       "      <td>Case Presentation</td>\n",
       "      <td>4</td>\n",
       "    </tr>\n",
       "    <tr>\n",
       "      <th>5</th>\n",
       "      <td>2</td>\n",
       "      <td>Case Presentation</td>\n",
       "      <td>6</td>\n",
       "    </tr>\n",
       "    <tr>\n",
       "      <th>6</th>\n",
       "      <td>0</td>\n",
       "      <td>PPT</td>\n",
       "      <td>2</td>\n",
       "    </tr>\n",
       "    <tr>\n",
       "      <th>7</th>\n",
       "      <td>1</td>\n",
       "      <td>PPT</td>\n",
       "      <td>1</td>\n",
       "    </tr>\n",
       "    <tr>\n",
       "      <th>8</th>\n",
       "      <td>2</td>\n",
       "      <td>PPT</td>\n",
       "      <td>3</td>\n",
       "    </tr>\n",
       "  </tbody>\n",
       "</table>\n",
       "</div>"
      ],
      "text/plain": [
       "   index           Treatments  value\n",
       "0      0         Black Board       4\n",
       "1      1         Black Board       3\n",
       "2      2         Black Board       2\n",
       "3      0  Case Presentation        2\n",
       "4      1  Case Presentation        4\n",
       "5      2  Case Presentation        6\n",
       "6      0                 PPT       2\n",
       "7      1                 PPT       1\n",
       "8      2                 PPT       3"
      ]
     },
     "execution_count": 38,
     "metadata": {},
     "output_type": "execute_result"
    }
   ],
   "source": [
    "df_new = pd.melt(df.reset_index(), id_vars = ['index'], value_vars = ['Black Board ', 'Case Presentation  ', 'PPT '])\n",
    "df_new.columns = ['index', 'Treatments', 'value']\n",
    "df_new"
   ]
  },
  {
   "cell_type": "code",
   "execution_count": 41,
   "id": "1327c71c",
   "metadata": {},
   "outputs": [
    {
     "data": {
      "text/html": [
       "<div>\n",
       "<style scoped>\n",
       "    .dataframe tbody tr th:only-of-type {\n",
       "        vertical-align: middle;\n",
       "    }\n",
       "\n",
       "    .dataframe tbody tr th {\n",
       "        vertical-align: top;\n",
       "    }\n",
       "\n",
       "    .dataframe thead th {\n",
       "        text-align: right;\n",
       "    }\n",
       "</style>\n",
       "<table border=\"1\" class=\"dataframe\">\n",
       "  <thead>\n",
       "    <tr style=\"text-align: right;\">\n",
       "      <th></th>\n",
       "      <th>df</th>\n",
       "      <th>sum_sq</th>\n",
       "      <th>mean_sq</th>\n",
       "      <th>F</th>\n",
       "      <th>PR(&gt;F)</th>\n",
       "    </tr>\n",
       "  </thead>\n",
       "  <tbody>\n",
       "    <tr>\n",
       "      <th>C(Treatments)</th>\n",
       "      <td>2.0</td>\n",
       "      <td>6.0</td>\n",
       "      <td>3.0</td>\n",
       "      <td>1.5</td>\n",
       "      <td>0.296296</td>\n",
       "    </tr>\n",
       "    <tr>\n",
       "      <th>Residual</th>\n",
       "      <td>6.0</td>\n",
       "      <td>12.0</td>\n",
       "      <td>2.0</td>\n",
       "      <td>NaN</td>\n",
       "      <td>NaN</td>\n",
       "    </tr>\n",
       "  </tbody>\n",
       "</table>\n",
       "</div>"
      ],
      "text/plain": [
       "                df  sum_sq  mean_sq    F    PR(>F)\n",
       "C(Treatments)  2.0     6.0      3.0  1.5  0.296296\n",
       "Residual       6.0    12.0      2.0  NaN       NaN"
      ]
     },
     "execution_count": 41,
     "metadata": {},
     "output_type": "execute_result"
    }
   ],
   "source": [
    "model = ols('value ~ C(Treatments)', data = df_new).fit()\n",
    "anova_table = spm.stats.anova_lm(model, typ = 1)\n",
    "anova_table"
   ]
  },
  {
   "cell_type": "code",
   "execution_count": null,
   "id": "438d44d9",
   "metadata": {},
   "outputs": [],
   "source": []
  },
  {
   "cell_type": "code",
   "execution_count": null,
   "id": "ab3227d9",
   "metadata": {},
   "outputs": [],
   "source": []
  }
 ],
 "metadata": {
  "kernelspec": {
   "display_name": "Python 3 (ipykernel)",
   "language": "python",
   "name": "python3"
  },
  "language_info": {
   "codemirror_mode": {
    "name": "ipython",
    "version": 3
   },
   "file_extension": ".py",
   "mimetype": "text/x-python",
   "name": "python",
   "nbconvert_exporter": "python",
   "pygments_lexer": "ipython3",
   "version": "3.9.7"
  }
 },
 "nbformat": 4,
 "nbformat_minor": 5
}
